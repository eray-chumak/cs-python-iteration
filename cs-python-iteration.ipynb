{
 "cells": [
  {
   "cell_type": "markdown",
   "metadata": {},
   "source": [
    "# Practicing FOR Loop in Python\n",
    "\n",
    "Remember you can use:\n",
    "\n",
    "FOR or counting loops\n",
    "\n",
    "for loopVar in range(start, stop, step):\n",
    "    #indent - do loop stuff\n",
    "\n",
    "#dedent - loop is done. Do more stuff"
   ]
  },
  {
   "cell_type": "markdown",
   "metadata": {},
   "source": [
    "## Example - sumTo(num): takes a number as a parameter and adds all the numbers from 1 to that number\n",
    "The sumTo function has been done for you."
   ]
  },
  {
   "cell_type": "code",
   "execution_count": null,
   "metadata": {},
   "outputs": [],
   "source": [
    "#This function sums up all the numbers from 1 to num\n",
    "def sumTo(num):\n",
    "    sum=0\n",
    "    for i in range(1,num+1):\n",
    "        sum+=i # keep adding i into the sum - same as sum = sum +i\n",
    "    return sum"
   ]
  },
  {
   "cell_type": "markdown",
   "metadata": {},
   "source": [
    "See how the loop in the code above goes from 1 (inclusive) up to num+1 (but not including)?\n",
    "\n",
    "Also, see the line:\n",
    "\n",
    "sum+=i\n",
    "This will keep adding the loop index i into the sum. It is cummulative! It is the same as:\n",
    "\n",
    "sum = sum+i\n",
    "Run the code below to see the function in action and check for errors:"
   ]
  },
  {
   "cell_type": "code",
   "execution_count": null,
   "metadata": {},
   "outputs": [],
   "source": [
    "#run the function\n",
    "sumTo(100)"
   ]
  },
  {
   "cell_type": "markdown",
   "metadata": {},
   "source": [
    "## Task 1: Write a python program to find the sum of all even numbers from 0 to 10"
   ]
  },
  {
   "cell_type": "code",
   "execution_count": 13,
   "metadata": {},
   "outputs": [
    {
     "name": "stdout",
     "output_type": "stream",
     "text": [
      "SUM: 30\n"
     ]
    }
   ],
   "source": [
    "sum = 0\n",
    "for number in range(0, 11):\n",
    "    if number % 2 == 0:\n",
    "        sum += number\n",
    "print(f\"SUM: {sum}\")"
   ]
  },
  {
   "cell_type": "markdown",
   "metadata": {},
   "source": [
    "## Task 2: Write a function that takes a number and adds all the numbers squared between 1 and num (eg 1+4+9 + 16 etc)"
   ]
  },
  {
   "cell_type": "code",
   "execution_count": null,
   "metadata": {},
   "outputs": [],
   "source": [
    "def req_num():\n",
    "    try:\n",
    "        number = int(input(\"NUMBER: \"))\n",
    "        if (number < 0):\n",
    "            print(\"\\nNumber has to be above 0.\\n\")\n",
    "            req_num()\n",
    "        else:\n",
    "            return number\n",
    "    except ValueError:\n",
    "        print(\"\\nNumber has to be an integer.\\n\")\n",
    "        req_num()\n",
    "\n",
    "def get_sqrd_nums(max):\n",
    "    sum = 0\n",
    "    for num in range(1, max): sum += num ** 2\n",
    "        return sum\n",
    "\n",
    "print(f\"\\nSUM: {get_sqrd_nums(req_num())}\")"
   ]
  },
  {
   "cell_type": "markdown",
   "metadata": {},
   "source": [
    "## Task 3: Write a function which takes a number and returns true if a number is a prime. \n",
    "Eg primeTest(17) = true, primeTest(15)=false"
   ]
  },
  {
   "cell_type": "code",
   "execution_count": null,
   "metadata": {},
   "outputs": [],
   "source": [
    "def req_num():\n",
    "    try:\n",
    "        return int(input(\"NUMBER: \"))\n",
    "    except ValueError:\n",
    "        print(\"\\nInput has to be a number.\\n\")\n",
    "        req_num()\n",
    "        \n",
    "def prime(number):\n",
    "    if (number % 2 != 0):\n",
    "        return True\n",
    "    else:\n",
    "        return False\n",
    "\n",
    "\n",
    "print(f\"\\nPRIME: {prime(req_num())}\")"
   ]
  },
  {
   "cell_type": "code",
   "execution_count": 22,
   "metadata": {},
   "outputs": [
    {
     "data": {
      "text/plain": [
       "True"
      ]
     },
     "execution_count": 22,
     "metadata": {},
     "output_type": "execute_result"
    }
   ],
   "source": []
  },
  {
   "cell_type": "markdown",
   "metadata": {},
   "source": [
    "## Task 4: The sequence 1,4,9,16,25 is made up of square numbers (i.e.1=12, 4 = 22, 9=32 etc.). Write a program that writes out all the square numbers under 500."
   ]
  },
  {
   "cell_type": "code",
   "execution_count": 3,
   "metadata": {},
   "outputs": [],
   "source": [
    "#write your code here\n",
    "    "
   ]
  },
  {
   "cell_type": "markdown",
   "metadata": {},
   "source": [
    "## Extension task: Write a Python program to construct the following pattern, using a nested for loop. \n",
    "\n",
    "@\n",
    "\n",
    "@@\n",
    "\n",
    "@@@\n",
    "\n",
    "@@@@\n",
    "\n",
    "@@@\n",
    "\n",
    "@@\n",
    "\n",
    "@\n"
   ]
  },
  {
   "cell_type": "code",
   "execution_count": 34,
   "metadata": {},
   "outputs": [
    {
     "name": "stdout",
     "output_type": "stream",
     "text": [
      "1\n",
      "2\n",
      "3\n",
      "1\n",
      "3\n"
     ]
    }
   ],
   "source": [
    "for x in range(1, 4, 1):\n",
    "    print(x)\n",
    "    \n",
    "for y in range(1, 4, 2):\n",
    "        print(y)"
   ]
  }
 ],
 "metadata": {
  "kernelspec": {
   "display_name": "Python 3",
   "language": "python",
   "name": "python3"
  },
  "language_info": {
   "codemirror_mode": {
    "name": "ipython",
    "version": 3
   },
   "file_extension": ".py",
   "mimetype": "text/x-python",
   "name": "python",
   "nbconvert_exporter": "python",
   "pygments_lexer": "ipython3",
   "version": "3.6.5"
  }
 },
 "nbformat": 4,
 "nbformat_minor": 2
}
